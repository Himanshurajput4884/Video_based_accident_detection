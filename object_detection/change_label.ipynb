{
 "cells": [
  {
   "cell_type": "code",
   "execution_count": 5,
   "metadata": {},
   "outputs": [],
   "source": [
    "import os\n",
    "\n",
    "def update_txt_files(folder_path):\n",
    "    # Iterate through all files in the folder\n",
    "    for file_name in os.listdir(folder_path):\n",
    "        # Check if the file is a text file (you can customize this condition)\n",
    "        if file_name.lower().endswith('.txt'):\n",
    "            file_path = os.path.join(folder_path, file_name)\n",
    "            \n",
    "            # Read the content of the text file and update each line\n",
    "            updated_lines = []\n",
    "            with open(file_path, 'r') as file:\n",
    "                for line in file:\n",
    "                    # Split the line into parts\n",
    "                    parts = line.split()\n",
    "                    if parts:\n",
    "                        # Update the first digit to 0\n",
    "                        parts[0] = '0'\n",
    "                        # Join the parts back into a line\n",
    "                        updated_line = ' '.join(parts)+\"\\n\";\n",
    "                        updated_lines.append(updated_line)\n",
    "\n",
    "            # Write the updated lines back to the text file\n",
    "            with open(file_path, 'w') as file:\n",
    "                file.writelines(updated_lines)\n",
    "\n",
    "# Example usage:\n",
    "folder_path = \"C:/Minor12/object_detection/Dataset/validation/vehicles\"\n",
    "update_txt_files(folder_path)\n"
   ]
  }
 ],
 "metadata": {
  "kernelspec": {
   "display_name": "Python 3",
   "language": "python",
   "name": "python3"
  },
  "language_info": {
   "codemirror_mode": {
    "name": "ipython",
    "version": 3
   },
   "file_extension": ".py",
   "mimetype": "text/x-python",
   "name": "python",
   "nbconvert_exporter": "python",
   "pygments_lexer": "ipython3",
   "version": "3.11.4"
  }
 },
 "nbformat": 4,
 "nbformat_minor": 2
}
